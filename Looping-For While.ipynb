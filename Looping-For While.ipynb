{
 "cells": [
  {
   "cell_type": "code",
   "execution_count": 43,
   "metadata": {},
   "outputs": [
    {
     "name": "stdout",
     "output_type": "stream",
     "text": [
      "1  sum =  0\n",
      "1  sum =  1\n",
      "2  sum =  1\n",
      "2  sum =  3\n",
      "3  sum =  3\n",
      "3  sum =  6\n",
      "4  sum =  6\n",
      "4  sum =  10\n"
     ]
    }
   ],
   "source": [
    "sum = 0\n",
    "for i in range(1,5):\n",
    "    print(i, \" sum = \", sum)\n",
    "    sum = sum + i\n",
    "    print(i, \" sum = \", sum)\n",
    "    #sum += i\n",
    "    #print(sum)"
   ]
  },
  {
   "cell_type": "code",
   "execution_count": 45,
   "metadata": {},
   "outputs": [
    {
     "name": "stdout",
     "output_type": "stream",
     "text": [
      "0\n",
      "2\n",
      "4\n",
      "6\n",
      "8\n",
      "10\n"
     ]
    }
   ],
   "source": [
    "for i in range(0,11,2):\n",
    "    print(i) "
   ]
  },
  {
   "cell_type": "code",
   "execution_count": 53,
   "metadata": {},
   "outputs": [
    {
     "name": "stdout",
     "output_type": "stream",
     "text": [
      "0  string =  Mary\n",
      "Mary\n",
      "1  string =  had\n",
      "2  string =  a\n",
      "a\n",
      "3  string =  little\n",
      "4  string =  lamb\n",
      "lamb\n"
     ]
    }
   ],
   "source": [
    "# words in a sentence\n",
    "my_string = \"Mary had a little lamb\"\n",
    "for i, str in enumerate(my_string.split()):\n",
    "    print(i, \" string = \", str)\n",
    "    if i%2 == 0:\n",
    "        print(str)"
   ]
  },
  {
   "cell_type": "code",
   "execution_count": 54,
   "metadata": {},
   "outputs": [
    {
     "name": "stdout",
     "output_type": "stream",
     "text": [
      "M\n",
      "a\n",
      "r\n",
      "y\n",
      " \n",
      "h\n",
      "a\n",
      "d\n",
      " \n",
      "a\n",
      " \n",
      "l\n",
      "i\n",
      "t\n",
      "t\n",
      "l\n",
      "e\n",
      " \n",
      "l\n",
      "a\n",
      "m\n",
      "b\n"
     ]
    }
   ],
   "source": [
    "#Looping on a string\n",
    "\n",
    "my_string = \"Mary had a little lamb\"\n",
    "\n",
    "for my_string in my_string:\n",
    "    print(my_string)\n"
   ]
  },
  {
   "cell_type": "code",
   "execution_count": null,
   "metadata": {},
   "outputs": [],
   "source": [
    "#pattern to print-\n",
    "\n",
    "*\n",
    "* *\n",
    "* * *\n",
    "* * * * \n",
    "* * * * *\n",
    "* * * *\n",
    "* * *\n",
    "* *\n",
    "*\n"
   ]
  },
  {
   "cell_type": "code",
   "execution_count": 3,
   "metadata": {},
   "outputs": [
    {
     "name": "stdout",
     "output_type": "stream",
     "text": [
      "* \n",
      "* * \n",
      "* * * \n",
      "* * * * \n",
      "* * * * * \n",
      "* * * * \n",
      "* * * \n",
      "* * \n",
      "* \n"
     ]
    }
   ],
   "source": [
    "str1=''\n",
    "for i in range(0,9):\n",
    "    if i<5:\n",
    "        str1 += '* '\n",
    "        print(str1)\n",
    "    elif i>4:\n",
    "        str1 = str1[:-2]\n",
    "        print(str1)\n"
   ]
  },
  {
   "cell_type": "code",
   "execution_count": 4,
   "metadata": {},
   "outputs": [
    {
     "name": "stdout",
     "output_type": "stream",
     "text": [
      "M 0\n",
      "a 1\n",
      "r 2\n",
      "y 3\n",
      "  4\n",
      "h 5\n",
      "a 6\n",
      "d 7\n",
      "  8\n",
      "a 9\n",
      "  10\n",
      "l 11\n",
      "i 12\n",
      "t 13\n",
      "t 14\n",
      "l 15\n",
      "e 16\n",
      "  17\n",
      "l 18\n",
      "a 19\n",
      "m 20\n",
      "b 21\n"
     ]
    }
   ],
   "source": [
    "my_string = \"Mary had a little lamb\"\n",
    "\n",
    "for n,alphabet in enumerate(my_string):\n",
    "    print(alphabet, n)\n"
   ]
  },
  {
   "cell_type": "code",
   "execution_count": null,
   "metadata": {},
   "outputs": [],
   "source": [
    "vowels =''\n",
    "for alphabet in my_string:\n",
    "    if alphabet in 'aeiou':\n",
    "        vowels += ' ' + alphabet\n",
    "print(vowels)\n"
   ]
  },
  {
   "cell_type": "code",
   "execution_count": 14,
   "metadata": {},
   "outputs": [
    {
     "name": "stdout",
     "output_type": "stream",
     "text": [
      "8 8 8 4 8 2 8 0 2 8 8 2 2\n",
      "3 3 7 9 3 7 3 1\n"
     ]
    }
   ],
   "source": [
    "nums = '838848237890237388221'\n",
    "all_even=''\n",
    "all_odd = ''\n",
    "for number in nums:\n",
    "    if int(number)%2 == 0:\n",
    "        all_even += \" \" + number\n",
    "    else:\n",
    "        all_odd += \" \" + number\n",
    "print(\" \".join(all_even.split()))#, \"\\n\", \" \".join(all_odd.split()))\n",
    "print(\" \".join(all_odd.split()))"
   ]
  },
  {
   "cell_type": "code",
   "execution_count": null,
   "metadata": {
    "collapsed": true
   },
   "outputs": [],
   "source": [
    "nums = '838848237890237388221'\n",
    "all_even=''\n",
    "all_odd = ''\n",
    "for number in nums:\n",
    "    if int(number)%2 == 0:\n",
    "        all_even += number\n",
    "    else:\n",
    "        all_odd += number\n",
    "\n",
    "print('All Evens are : '+ all_even + ' & All odds are : '+ all_odd)\n"
   ]
  },
  {
   "cell_type": "code",
   "execution_count": 15,
   "metadata": {},
   "outputs": [],
   "source": [
    "list_of_inventories = ['Apple', 'Banana', 'Potato', 'Mango', 'Onion', 'Toothpaste']\n",
    "fruits = ['Apple','Banana','Mango','Orange','Strawberry']\n",
    "vegetables = ['Potato', 'Onion','Cucumber', 'Celery']\n"
   ]
  },
  {
   "cell_type": "code",
   "execution_count": 17,
   "metadata": {},
   "outputs": [
    {
     "name": "stdout",
     "output_type": "stream",
     "text": [
      "Fruits: ['Apple', 'Banana', 'Mango'] Veggies:  ['Potato', 'Onion']\n",
      "Fruits: 3 Veggies:  2\n"
     ]
    }
   ],
   "source": [
    "list_inventories_fruits = [fruit for fruit in list_of_inventories if fruit in fruits]\n",
    "list_inventories_veggies = [veggi for veggi in list_of_inventories if veggi in vegetables]\n",
    "print(\"Fruits:\", list_inventories_fruits, \"Veggies: \", list_inventories_veggies)\n",
    "print(\"Fruits:\", len(list_inventories_fruits), \"Veggies: \", len(list_inventories_veggies))"
   ]
  },
  {
   "cell_type": "code",
   "execution_count": null,
   "metadata": {},
   "outputs": [],
   "source": [
    "#count of fruits in inventory list\n",
    "count_fruits = 0\n",
    "#count of vegetables in inventory list\n",
    "count_veg = 0\n",
    "for item in list_of_inventories:\n",
    "    print(item)\n",
    "    if item in fruits:\n",
    "        count_fruits+=1\n",
    "    elif item in vegetables:\n",
    "        count_veg +=1\n",
    "    else:\n",
    "        continue\n",
    "print(count_fruits)\n",
    "print(count_veg)"
   ]
  },
  {
   "cell_type": "code",
   "execution_count": null,
   "metadata": {},
   "outputs": [],
   "source": [
    "sentence = \"Is Python simpler than R ?\"\n",
    "for word in sentence.split():\n",
    "    print(word)\n"
   ]
  },
  {
   "cell_type": "code",
   "execution_count": 33,
   "metadata": {},
   "outputs": [
    {
     "name": "stdout",
     "output_type": "stream",
     "text": [
      "beautiful\n",
      "morning\n"
     ]
    }
   ],
   "source": [
    "\n",
    "#sentence check\n",
    "tweet = '#beautiful #morning it is looking good'\n",
    "\n",
    "for word in tweet.split():\n",
    "    if word.startswith('#'):\n",
    "        print(word[1:])\n"
   ]
  },
  {
   "cell_type": "code",
   "execution_count": 18,
   "metadata": {},
   "outputs": [],
   "source": [
    "students_data = {1:['Shivam Bansal', 24] , 2:['Udit Bansal',25], 3:['Sonam Gupta', 26], 4:['Saif Ansari',24], 5:['Huzefa Calcuttawala',27]}\n"
   ]
  },
  {
   "cell_type": "code",
   "execution_count": 32,
   "metadata": {},
   "outputs": [
    {
     "name": "stdout",
     "output_type": "stream",
     "text": [
      "An item in dictionary:   (1, ['Shivam Bansal', 24])\n",
      "Type of dictionary item:  <class 'tuple'>\n",
      "Roll number:  1  Student Information:  ['Shivam Bansal', 24]\n",
      "Student Name:  Shivam Bansal\n",
      "An item in dictionary:   (2, ['Udit Bansal', 25])\n",
      "Type of dictionary item:  <class 'tuple'>\n",
      "Roll number:  2  Student Information:  ['Udit Bansal', 25]\n",
      "Student Name:  Udit Bansal\n",
      "An item in dictionary:   (3, ['Sonam Gupta', 26])\n",
      "Type of dictionary item:  <class 'tuple'>\n",
      "Roll number:  3  Student Information:  ['Sonam Gupta', 26]\n",
      "Student Name:  Sonam Gupta\n",
      "An item in dictionary:   (4, ['Saif Ansari', 24])\n",
      "Type of dictionary item:  <class 'tuple'>\n",
      "Roll number:  4  Student Information:  ['Saif Ansari', 24]\n",
      "Student Name:  Saif Ansari\n",
      "An item in dictionary:   (5, ['Huzefa Calcuttawala', 27])\n",
      "Type of dictionary item:  <class 'tuple'>\n",
      "Roll number:  5  Student Information:  ['Huzefa Calcuttawala', 27]\n",
      "Student Name:  Huzefa Calcuttawala\n"
     ]
    }
   ],
   "source": [
    "#for num, key in enumerate(students_data.items()):\n",
    "for item in students_data.items():\n",
    "    print(\"An item in dictionary:  \", item)\n",
    "    print(\"Type of dictionary item: \", type(item))\n",
    "    print(\"Roll number: \", item[0], \" Student Information: \", item[1])\n",
    "    print(\"Student Name: \" ,item[1][0])\n"
   ]
  },
  {
   "cell_type": "code",
   "execution_count": null,
   "metadata": {},
   "outputs": [],
   "source": [
    "for key, val in students_data.items():\n",
    "    print(key, val)\n"
   ]
  },
  {
   "cell_type": "code",
   "execution_count": null,
   "metadata": {},
   "outputs": [],
   "source": [
    "for key in students_data.keys():\n",
    "    print(key)\n"
   ]
  },
  {
   "cell_type": "code",
   "execution_count": null,
   "metadata": {},
   "outputs": [],
   "source": [
    "for val in students_data.values():\n",
    "    print(val)\n"
   ]
  },
  {
   "cell_type": "code",
   "execution_count": null,
   "metadata": {},
   "outputs": [],
   "source": [
    "count = 0\n",
    "for key, val in students_data.items():\n",
    "    if val[1]<25:\n",
    "        count+=1\n",
    "\n",
    "print(count)"
   ]
  },
  {
   "cell_type": "code",
   "execution_count": 55,
   "metadata": {},
   "outputs": [
    {
     "name": "stdout",
     "output_type": "stream",
     "text": [
      "0\n",
      "1\n",
      "2\n",
      "3\n",
      "4\n",
      "5\n",
      "6\n",
      "7\n",
      "8\n",
      "9\n"
     ]
    }
   ],
   "source": [
    "i = 0\n",
    "while i < 10:\n",
    "    print(i)\n",
    "    i = i + 1"
   ]
  },
  {
   "cell_type": "code",
   "execution_count": null,
   "metadata": {},
   "outputs": [],
   "source": [
    "#while loop\n",
    "start =20\n",
    "total= 0\n",
    "while start<51:\n",
    "    total+=start\n",
    "    start+=1\n",
    "    print(start)\n",
    "\n",
    "print(total)\n",
    "\n"
   ]
  }
 ],
 "metadata": {
  "anaconda-cloud": {},
  "kernelspec": {
   "display_name": "Python 3",
   "language": "python",
   "name": "python3"
  },
  "language_info": {
   "codemirror_mode": {
    "name": "ipython",
    "version": 3
   },
   "file_extension": ".py",
   "mimetype": "text/x-python",
   "name": "python",
   "nbconvert_exporter": "python",
   "pygments_lexer": "ipython3",
   "version": "3.7.0"
  }
 },
 "nbformat": 4,
 "nbformat_minor": 1
}
