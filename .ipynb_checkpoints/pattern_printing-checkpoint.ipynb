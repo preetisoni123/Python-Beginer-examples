{
 "cells": [
  {
   "cell_type": "code",
   "execution_count": 1,
   "metadata": {},
   "outputs": [
    {
     "name": "stdout",
     "output_type": "stream",
     "text": [
      "                * \r\n",
      "             *  *  * \r\n",
      "          *  *  *  *  * \r\n",
      "       *  *  *  *  *  *  * \r\n",
      "    *  *  *  *  *  *  *  *  * \r\n"
     ]
    }
   ],
   "source": [
    "n = 5\n",
    "for i in range(0, n ):\n",
    "    for k in range(0, n-i):\n",
    "        print(\"   \", end = '')\n",
    "    for j in range(0, i*2 + 1):\n",
    "        print(' * ', end = \"\")\n",
    "    print('\\r')\n",
    "    "
   ]
  },
  {
   "cell_type": "code",
   "execution_count": 3,
   "metadata": {},
   "outputs": [
    {
     "name": "stdout",
     "output_type": "stream",
     "text": [
      " * \r\n",
      " *  *  * \r\n",
      " *  *  *  *  * \r\n",
      " *  *  *  *  *  *  * \r\n",
      " *  *  *  *  *  *  *  *  * \r\n"
     ]
    }
   ],
   "source": [
    "n = 5\n",
    "for i in range(0, n ):\n",
    "    for j in range(0, i*2 + 1):\n",
    "        print(' * ', end = \"\")\n",
    "    print('\\r')\n",
    "    "
   ]
  },
  {
   "cell_type": "code",
   "execution_count": 4,
   "metadata": {},
   "outputs": [
    {
     "name": "stdout",
     "output_type": "stream",
     "text": [
      " * \r\n",
      " *  * \r\n",
      " *  *  * \r\n",
      " *  *  *  * \r\n",
      " *  *  *  *  * \r\n"
     ]
    }
   ],
   "source": [
    "n = 5\n",
    "for i in range(0, n ):\n",
    "    for j in range(0, i + 1):\n",
    "        print(' * ', end = \"\")\n",
    "    print('\\r')\n",
    "    "
   ]
  },
  {
   "cell_type": "code",
   "execution_count": 6,
   "metadata": {},
   "outputs": [
    {
     "name": "stdout",
     "output_type": "stream",
     "text": [
      "  A \r\n",
      "  B   C \r\n",
      "  D   E   F \r\n",
      "  G   H   I   J \r\n",
      "  K   L   M   N   O \r\n"
     ]
    }
   ],
   "source": [
    "num = 65\n",
    "n = 5\n",
    "for i in range(0, n ):\n",
    "    for j in range(0, i + 1):\n",
    "        print(\" \", chr(num), end = \" \")\n",
    "        num += 1\n",
    "    print('\\r')"
   ]
  },
  {
   "cell_type": "code",
   "execution_count": null,
   "metadata": {},
   "outputs": [],
   "source": []
  }
 ],
 "metadata": {
  "kernelspec": {
   "display_name": "Python 3",
   "language": "python",
   "name": "python3"
  },
  "language_info": {
   "codemirror_mode": {
    "name": "ipython",
    "version": 3
   },
   "file_extension": ".py",
   "mimetype": "text/x-python",
   "name": "python",
   "nbconvert_exporter": "python",
   "pygments_lexer": "ipython3",
   "version": "3.7.0"
  }
 },
 "nbformat": 4,
 "nbformat_minor": 2
}
