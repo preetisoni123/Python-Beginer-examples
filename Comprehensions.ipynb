{
 "cells": [
  {
   "cell_type": "code",
   "execution_count": 22,
   "metadata": {},
   "outputs": [
    {
     "name": "stdout",
     "output_type": "stream",
     "text": [
      "[1, 4, 9, 16, 25, 36, 49, 64, 81]\n"
     ]
    }
   ],
   "source": [
    "squares_list= []\n",
    "\n",
    "for x in range(1,10):\n",
    "    squares_list.append(x**2)\n",
    "print(squares_list)\n"
   ]
  },
  {
   "cell_type": "code",
   "execution_count": null,
   "metadata": {},
   "outputs": [],
   "source": [
    "s2 = "
   ]
  },
  {
   "cell_type": "code",
   "execution_count": 23,
   "metadata": {},
   "outputs": [],
   "source": [
    "squares_list_2 = [x+5 for x in range(1,10) ]"
   ]
  },
  {
   "cell_type": "code",
   "execution_count": 24,
   "metadata": {},
   "outputs": [
    {
     "name": "stdout",
     "output_type": "stream",
     "text": [
      "[6, 7, 8, 9, 10, 11, 12, 13, 14]\n"
     ]
    }
   ],
   "source": [
    "print(squares_list_2)"
   ]
  },
  {
   "cell_type": "code",
   "execution_count": null,
   "metadata": {},
   "outputs": [],
   "source": [
    "squares_list = [x**2 for x in range(1,10)]\n",
    "print(squares_list)"
   ]
  },
  {
   "cell_type": "code",
   "execution_count": 2,
   "metadata": {},
   "outputs": [],
   "source": [
    "paragraph = [\"There was a fox.\" , 'It was brown in color.', \"It was seen near that farm sometime back\"]"
   ]
  },
  {
   "cell_type": "code",
   "execution_count": 3,
   "metadata": {},
   "outputs": [],
   "source": [
    "# ['There', 'was', 'a', 'fox.', 'It', 'was', 'brown', 'in', 'color.', 'It', 'was', 'seen', 'near', 'that', 'farm', 'sometime', 'back']"
   ]
  },
  {
   "cell_type": "code",
   "execution_count": 25,
   "metadata": {},
   "outputs": [
    {
     "name": "stdout",
     "output_type": "stream",
     "text": [
      "['There', 'was', 'a', 'fox.', 'It', 'was', 'brown', 'in', 'color.', 'It', 'was', 'seen', 'near', 'that', 'farm', 'sometime', 'back']\n"
     ]
    }
   ],
   "source": [
    "single_word_list =[]\n",
    "\n",
    "for sentence in paragraph:\n",
    "    for word in sentence.split():\n",
    "        single_word_list.append(word)\n",
    "\n",
    "print(single_word_list)"
   ]
  },
  {
   "cell_type": "code",
   "execution_count": 28,
   "metadata": {},
   "outputs": [],
   "source": [
    "\n",
    "\n",
    "\n",
    "single_word_list_2 = [ word*2 for sentence in paragraph for word in sentence.split() ]"
   ]
  },
  {
   "cell_type": "code",
   "execution_count": 29,
   "metadata": {},
   "outputs": [
    {
     "name": "stdout",
     "output_type": "stream",
     "text": [
      "['ThereThere', 'waswas', 'aa', 'fox.fox.', 'ItIt', 'waswas', 'brownbrown', 'inin', 'color.color.', 'ItIt', 'waswas', 'seenseen', 'nearnear', 'thatthat', 'farmfarm', 'sometimesometime', 'backback']\n"
     ]
    }
   ],
   "source": [
    "print(single_word_list_2)"
   ]
  },
  {
   "cell_type": "code",
   "execution_count": 6,
   "metadata": {},
   "outputs": [
    {
     "name": "stdout",
     "output_type": "stream",
     "text": [
      "['There', 'was', 'a', 'fox.', 'It', 'was', 'brown', 'in', 'color.', 'It', 'was', 'seen', 'near', 'that', 'farm', 'sometime', 'back']\n"
     ]
    }
   ],
   "source": [
    "\n",
    "single_word_list  = [word for sentence in paragraph for word in sentence.split()]\n",
    "print(single_word_list)"
   ]
  },
  {
   "cell_type": "code",
   "execution_count": 30,
   "metadata": {},
   "outputs": [
    {
     "name": "stdout",
     "output_type": "stream",
     "text": [
      "['a', 'It', 'in', 'It']\n"
     ]
    }
   ],
   "source": [
    "vowels = ['a','e','i','o','u']\n",
    "vowels_from_sentence =[word  for sentence in paragraph for word in sentence.split() if word[0].lower() in vowels]\n",
    "print(vowels_from_sentence)\n"
   ]
  },
  {
   "cell_type": "code",
   "execution_count": null,
   "metadata": {},
   "outputs": [],
   "source": [
    "#list comp with if statement\n",
    "vowels = ['a','e','i','o','u']\n",
    "vowels_from_sentence =[]\n",
    "for sentence in paragraph:\n",
    "    for word in sentence.split():\n",
    "        if word[0].lower() in vowels:\n",
    "            vowels_from_sentence.append(word)\n",
    "\n",
    "print(vowels_from_sentence)\n"
   ]
  },
  {
   "cell_type": "code",
   "execution_count": 31,
   "metadata": {},
   "outputs": [],
   "source": [
    "vowels_from_sentence_2 = [word for sentence in paragraph for word in sentence.split() if word[0].lower() in vowels]"
   ]
  },
  {
   "cell_type": "code",
   "execution_count": 32,
   "metadata": {},
   "outputs": [
    {
     "name": "stdout",
     "output_type": "stream",
     "text": [
      "['a', 'It', 'in', 'It']\n"
     ]
    }
   ],
   "source": [
    "print(vowels_from_sentence_2)"
   ]
  },
  {
   "cell_type": "code",
   "execution_count": null,
   "metadata": {
    "collapsed": true
   },
   "outputs": [],
   "source": [
    "#[ for sentence in paragraph]\n",
    "#[ for sentence in paragraph for word in sentence.split()]\n"
   ]
  },
  {
   "cell_type": "code",
   "execution_count": null,
   "metadata": {},
   "outputs": [],
   "source": [
    "vowels_comp = [word for sentence in paragraph for word in sentence.split() if word[0].lower() in vowels]\n",
    "print(vowels_comp)"
   ]
  },
  {
   "cell_type": "code",
   "execution_count": null,
   "metadata": {},
   "outputs": [],
   "source": [
    "squared_dictionary = {num : num**2 for num in range(0, 25)}\n",
    "print(squared_dictionary)"
   ]
  },
  {
   "cell_type": "code",
   "execution_count": 14,
   "metadata": {},
   "outputs": [],
   "source": [
    "students_data = {1:['Shivam Bansal', 24] , 2:['Udit Bansal',25], 3:['Sonam Gupta', 26], 4:['Saif Ansari',24], 5:['Huzefa Calcuttawala',27]}\n"
   ]
  },
  {
   "cell_type": "code",
   "execution_count": 21,
   "metadata": {},
   "outputs": [
    {
     "name": "stdout",
     "output_type": "stream",
     "text": [
      "{1: 'Shivam Bansal', 2: 'Udit Bansal', 3: 'Sonam Gupta', 4: 'Saif Ansari', 5: 'Huzefa Calcuttawala'}\n"
     ]
    }
   ],
   "source": [
    "# All students list, roll_number:name\n",
    "names_dict = {}\n",
    "#names_dict = {roll_num: details[0] for roll_num, details in students_data.items() if roll_num%2 == 0}\n",
    "names_dict = {roll_num: details[0] for roll_num, details in students_data.items()}\n",
    "\n",
    "print(names_dict)"
   ]
  },
  {
   "cell_type": "code",
   "execution_count": 16,
   "metadata": {},
   "outputs": [
    {
     "name": "stdout",
     "output_type": "stream",
     "text": [
      "{2: 'Udit Bansal', 4: 'Saif Ansari'}\n"
     ]
    }
   ],
   "source": [
    "names_dict ={}\n",
    "\n",
    "#iterate over each key, val pair\n",
    "for roll_num,details in students_data.items():\n",
    "    if roll_num%2==0:\n",
    "        names_dict[roll_num]= details[0]\n",
    "print(names_dict)"
   ]
  },
  {
   "cell_type": "code",
   "execution_count": null,
   "metadata": {},
   "outputs": [],
   "source": [
    "names_comp = {roll_num:details[0] for roll_num,details in students_data.items() if roll_num%2==0}\n",
    "print(names_comp)"
   ]
  },
  {
   "cell_type": "code",
   "execution_count": 1,
   "metadata": {
    "collapsed": true
   },
   "outputs": [
    {
     "ename": "NameError",
     "evalue": "name 'sys' is not defined",
     "output_type": "error",
     "traceback": [
      "\u001b[1;31m---------------------------------------------------------------------------\u001b[0m",
      "\u001b[1;31mNameError\u001b[0m                                 Traceback (most recent call last)",
      "\u001b[1;32m<ipython-input-1-9e62875d7e4a>\u001b[0m in \u001b[0;36m<module>\u001b[1;34m()\u001b[0m\n\u001b[1;32m----> 1\u001b[1;33m \u001b[0minput_str\u001b[0m \u001b[1;33m=\u001b[0m \u001b[0msys\u001b[0m\u001b[1;33m.\u001b[0m\u001b[0mstdin\u001b[0m\u001b[1;33m.\u001b[0m\u001b[0mread\u001b[0m\u001b[1;33m(\u001b[0m\u001b[1;33m)\u001b[0m\u001b[1;33m\u001b[0m\u001b[0m\n\u001b[0m\u001b[0;32m      2\u001b[0m \u001b[0minput_list\u001b[0m \u001b[1;33m=\u001b[0m \u001b[0mast\u001b[0m\u001b[1;33m.\u001b[0m\u001b[0mliteral_eval\u001b[0m\u001b[1;33m(\u001b[0m\u001b[0minput_str\u001b[0m\u001b[1;33m)\u001b[0m\u001b[1;33m\u001b[0m\u001b[0m\n\u001b[0;32m      3\u001b[0m \u001b[0mvowel\u001b[0m \u001b[1;33m=\u001b[0m \u001b[1;33m[\u001b[0m\u001b[1;34m'a'\u001b[0m\u001b[1;33m,\u001b[0m \u001b[1;34m'e'\u001b[0m\u001b[1;33m,\u001b[0m \u001b[1;34m'i'\u001b[0m\u001b[1;33m,\u001b[0m \u001b[1;34m'o'\u001b[0m\u001b[1;33m,\u001b[0m \u001b[1;34m'u'\u001b[0m\u001b[1;33m]\u001b[0m\u001b[1;33m\u001b[0m\u001b[0m\n\u001b[0;32m      4\u001b[0m \u001b[1;33m\u001b[0m\u001b[0m\n\u001b[0;32m      5\u001b[0m \u001b[0mlist_vowel\u001b[0m \u001b[1;33m=\u001b[0m\u001b[1;33m[\u001b[0m\u001b[0mw\u001b[0m \u001b[1;32mfor\u001b[0m \u001b[0mw\u001b[0m \u001b[1;32min\u001b[0m \u001b[0minput_list\u001b[0m \u001b[1;32mif\u001b[0m \u001b[0mw\u001b[0m\u001b[1;33m[\u001b[0m\u001b[1;36m0\u001b[0m\u001b[1;33m]\u001b[0m \u001b[1;32min\u001b[0m \u001b[0mvowel\u001b[0m\u001b[1;33m]\u001b[0m \u001b[1;31m# [Type your answer here]\u001b[0m\u001b[1;33m\u001b[0m\u001b[0m\n",
      "\u001b[1;31mNameError\u001b[0m: name 'sys' is not defined"
     ]
    }
   ],
   "source": [
    "input_str = sys.stdin.read()\n",
    "input_list = ast.literal_eval(input_str)\n",
    "vowel = ['a', 'e', 'i', 'o', 'u']\n",
    "\n",
    "list_vowel =[w for w in input_list if w[0] in vowel] # [Type your answer here]\n",
    "\n",
    "print(list_vowel)"
   ]
  },
  {
   "cell_type": "code",
   "execution_count": 4,
   "metadata": {},
   "outputs": [
    {
     "name": "stdout",
     "output_type": "stream",
     "text": [
      "10, 11, 12\n"
     ]
    }
   ],
   "source": [
    "in_str = \"[10, 11, 12]\"\n",
    "in_str = in_str.replace(\"[\", \"\")\n",
    "in_str = in_str.replace(\"]\", \"\")\n",
    "print(in_str)\n",
    "#for i in in_str.split()"
   ]
  },
  {
   "cell_type": "code",
   "execution_count": 7,
   "metadata": {},
   "outputs": [
    {
     "name": "stdout",
     "output_type": "stream",
     "text": [
      "{1: 11, 2: 22, 3: 33} {11: 1, 22: 2, 33: 3}\n"
     ]
    }
   ],
   "source": [
    "lst1 = [1, 2, 3]\n",
    "lst2 = [11, 22, 33]\n",
    "dict1 = {}\n",
    "dict2 = {}\n",
    "for i, j in zip(lst1, lst2):\n",
    "    dict1[i] = j\n",
    "    dict2[j] = i\n",
    "print(dict1, dict2)\n"
   ]
  },
  {
   "cell_type": "code",
   "execution_count": 23,
   "metadata": {},
   "outputs": [
    {
     "name": "stdout",
     "output_type": "stream",
     "text": [
      "{1: 11, 2: 22, 3: 33, 11: 1, 22: 2, 33: 3}\n"
     ]
    }
   ],
   "source": [
    "for i, j in dict2.items():\n",
    "    dict1[i] = j\n",
    "print(dict1)"
   ]
  },
  {
   "cell_type": "code",
   "execution_count": 12,
   "metadata": {},
   "outputs": [
    {
     "name": "stdout",
     "output_type": "stream",
     "text": [
      "1\n",
      "2\n",
      "3\n"
     ]
    }
   ],
   "source": [
    "for i in dict1.keys():\n",
    "    print(i)"
   ]
  },
  {
   "cell_type": "code",
   "execution_count": 11,
   "metadata": {},
   "outputs": [
    {
     "data": {
      "text/plain": [
       "['aaa', 'bbb', 'ccc']"
      ]
     },
     "execution_count": 11,
     "metadata": {},
     "output_type": "execute_result"
    }
   ],
   "source": [
    "str1 = \"aaa,bbb,ccc\"\n",
    "lst = str1.split(\",\")\n",
    "lst"
   ]
  },
  {
   "cell_type": "code",
   "execution_count": 13,
   "metadata": {},
   "outputs": [
    {
     "name": "stdout",
     "output_type": "stream",
     "text": [
      "1334\n"
     ]
    }
   ],
   "source": [
    "l = [12,34]\n",
    "l = [str(i) for i in l]\n",
    "n = \"\".join(l)\n",
    "m = int(n)\n",
    "print(m + 100)"
   ]
  },
  {
   "cell_type": "code",
   "execution_count": 14,
   "metadata": {},
   "outputs": [
    {
     "name": "stdout",
     "output_type": "stream",
     "text": [
      "Help on class filter in module builtins:\n",
      "\n",
      "class filter(object)\n",
      " |  filter(function or None, iterable) --> filter object\n",
      " |  \n",
      " |  Return an iterator yielding those items of iterable for which function(item)\n",
      " |  is true. If function is None, return the items that are true.\n",
      " |  \n",
      " |  Methods defined here:\n",
      " |  \n",
      " |  __getattribute__(self, name, /)\n",
      " |      Return getattr(self, name).\n",
      " |  \n",
      " |  __iter__(self, /)\n",
      " |      Implement iter(self).\n",
      " |  \n",
      " |  __next__(self, /)\n",
      " |      Implement next(self).\n",
      " |  \n",
      " |  __reduce__(...)\n",
      " |      Return state information for pickling.\n",
      " |  \n",
      " |  ----------------------------------------------------------------------\n",
      " |  Static methods defined here:\n",
      " |  \n",
      " |  __new__(*args, **kwargs) from builtins.type\n",
      " |      Create and return a new object.  See help(type) for accurate signature.\n",
      "\n"
     ]
    }
   ],
   "source": [
    "help(filter)"
   ]
  },
  {
   "cell_type": "code",
   "execution_count": 22,
   "metadata": {},
   "outputs": [
    {
     "name": "stdout",
     "output_type": "stream",
     "text": [
      "23.35\n",
      "23.35\n"
     ]
    }
   ],
   "source": [
    "i = 23.3456\n",
    "print(\"%.2f\" % i)\n",
    "print(\"%.2f\" % i)"
   ]
  },
  {
   "cell_type": "code",
   "execution_count": null,
   "metadata": {},
   "outputs": [],
   "source": []
  }
 ],
 "metadata": {
  "anaconda-cloud": {},
  "kernelspec": {
   "display_name": "Python 3",
   "language": "python",
   "name": "python3"
  },
  "language_info": {
   "codemirror_mode": {
    "name": "ipython",
    "version": 3
   },
   "file_extension": ".py",
   "mimetype": "text/x-python",
   "name": "python",
   "nbconvert_exporter": "python",
   "pygments_lexer": "ipython3",
   "version": "3.7.0"
  }
 },
 "nbformat": 4,
 "nbformat_minor": 1
}
