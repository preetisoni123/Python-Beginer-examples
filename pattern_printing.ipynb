{
 "cells": [
  {
   "cell_type": "markdown",
   "metadata": {},
   "source": [
    "### Printing triangle\n",
    "#### TIme complexity: O(n2) : n square time complexity  \n",
    "There are two inner loops, however the time for each one is added\n",
    "If time is multipled then it increase in exponential "
   ]
  },
  {
   "cell_type": "code",
   "execution_count": 1,
   "metadata": {},
   "outputs": [
    {
     "name": "stdout",
     "output_type": "stream",
     "text": [
      "                * \r\n",
      "             *  *  * \r\n",
      "          *  *  *  *  * \r\n",
      "       *  *  *  *  *  *  * \r\n",
      "    *  *  *  *  *  *  *  *  * \r\n"
     ]
    }
   ],
   "source": [
    "n = 5\n",
    "for i in range(0, n ):\n",
    "    for k in range(0, n-i):\n",
    "        print(\"   \", end = '')\n",
    "    for j in range(0, i*2 + 1):\n",
    "        print(' * ', end = \"\")\n",
    "    print('\\r')\n",
    "    \n",
    "    "
   ]
  },
  {
   "cell_type": "code",
   "execution_count": 33,
   "metadata": {},
   "outputs": [
    {
     "name": "stdout",
     "output_type": "stream",
     "text": [
      "[0, 1, 2, 3, 4, 3, 2, 1, 0]\n"
     ]
    }
   ],
   "source": [
    "n = 5\n",
    "c = 97\n",
    "# Generate the list\n",
    "lst1 = [i for i in range(0, n)]\n",
    "lst2 = [i for i in reversed(range(0, n-1))]\n",
    "#lst1.append(i for i in lst2)\n",
    "lst1 = lst1 + lst2\n",
    "print(lst1)"
   ]
  },
  {
   "cell_type": "code",
   "execution_count": 36,
   "metadata": {},
   "outputs": [
    {
     "name": "stdout",
     "output_type": "stream",
     "text": [
      "--------------------"
     ]
    }
   ],
   "source": [
    "n = 5\n",
    "for i in range(0, n):\n",
    "    # Print the initial \"-\"\n",
    "    for k in range(0, n-i -1):\n",
    "        print(\"--\", end = '')\n",
    "        \n",
    "    c+n-1 = e\n",
    "    (c+n-1) -j"
   ]
  },
  {
   "cell_type": "code",
   "execution_count": 41,
   "metadata": {},
   "outputs": [
    {
     "name": "stdout",
     "output_type": "stream",
     "text": [
      "--------e--------\r\n",
      "------e-d-e------\r\n",
      "----e-d-c-d-e----\r\n",
      "--e-d-c-b-c-d-e--\r\n",
      "e-d-c-b-a-b-c-d-e\r\n",
      "--e-d-c-b-c-d-e--\r\n",
      "----e-d-c-d-e----\r\n",
      "------e-d-e------\r\n",
      "--------e--------\r\n"
     ]
    }
   ],
   "source": [
    "n = 5\n",
    "c = 97 \n",
    "# Generate the list\n",
    "lst1 = [i for i in range(0, n)]\n",
    "lst2 = [i for i in reversed(range(0, n-1))]\n",
    "lst1 = lst1 + lst2\n",
    "for i in lst1:\n",
    "    # Print the initial \"-\"\n",
    "    for k in range(0, n-i -1):\n",
    "        print(\"--\", end = '')\n",
    "\n",
    "    # Print the characters in ascending order\n",
    "    for j in range(0, i + 1 ):\n",
    "        if i == 0:\n",
    "            print(chr((c+n-1) -j), end = \"\")\n",
    "        else:\n",
    "            print(chr((c+n-1) - j), end = \"-\")\n",
    "    # Print the characters in descending order\n",
    "    for j in reversed(range(0, i )):\n",
    "        if j == 0:\n",
    "            print(chr(c+n-j-1), end = \"\")\n",
    "        else:\n",
    "            print(chr(c+n-j-1), end = \"-\")\n",
    "    # Print the \"-\" for rest of the line\n",
    "    for k in range(0, n-i-1):\n",
    "        print(\"--\", end = '')\n",
    "    print('\\r')\n",
    "    "
   ]
  },
  {
   "cell_type": "code",
   "execution_count": 3,
   "metadata": {},
   "outputs": [
    {
     "name": "stdout",
     "output_type": "stream",
     "text": [
      " * \r\n",
      " *  *  * \r\n",
      " *  *  *  *  * \r\n",
      " *  *  *  *  *  *  * \r\n",
      " *  *  *  *  *  *  *  *  * \r\n"
     ]
    }
   ],
   "source": [
    "n = 5\n",
    "\n",
    "for i in range(0, n ):\n",
    "    for j in range(0, i*2 + 1):\n",
    "        print(' * ', end = \"\")\n",
    "        for k in range(0, n):\n",
    "            print(k)\n",
    "    print('\\r')\n",
    "    "
   ]
  },
  {
   "cell_type": "code",
   "execution_count": 18,
   "metadata": {},
   "outputs": [
    {
     "name": "stdout",
     "output_type": "stream",
     "text": [
      " *  #########\r\n",
      " *  ######### *  #########\r\n",
      " *  ######### *  ######### *  #########\r\n",
      " *  ######### *  ######### *  ######### *  #########\r\n",
      " *  ######### *  ######### *  ######### *  ######### *  #########\r\n"
     ]
    }
   ],
   "source": [
    "n = 5\n",
    "for i in range(1, n +1):\n",
    "    for j in range(1, i + 1):\n",
    "        print(' * ', end = \" #########\")\n",
    "    print('\\r')\n",
    "    "
   ]
  },
  {
   "cell_type": "code",
   "execution_count": 42,
   "metadata": {},
   "outputs": [
    {
     "name": "stdout",
     "output_type": "stream",
     "text": [
      "4\n",
      "0\n",
      "1\n",
      "2\n",
      "3\n"
     ]
    }
   ],
   "source": [
    "A = [2, 3, 4, 5]\n",
    "print(len(A))\n",
    "for i in range(4):\n",
    "    print(i)\n",
    "\n",
    "#for i in range(0, 1):\n",
    "#    print(i)"
   ]
  },
  {
   "cell_type": "code",
   "execution_count": 43,
   "metadata": {},
   "outputs": [
    {
     "data": {
      "text/plain": [
       "list"
      ]
     },
     "execution_count": 43,
     "metadata": {},
     "output_type": "execute_result"
    }
   ],
   "source": [
    "type(A)"
   ]
  },
  {
   "cell_type": "code",
   "execution_count": 39,
   "metadata": {},
   "outputs": [
    {
     "name": "stdout",
     "output_type": "stream",
     "text": [
      "            A \r\n",
      "          A B C \r\n",
      "        A B C D E \r\n",
      "      A B C D E F G \r\n",
      "    A B C D E F G H I \r\n"
     ]
    }
   ],
   "source": [
    "num = 65\n",
    "n = 5\n",
    "\n",
    "for i in range(0, n):\n",
    "    for k in range(0, n - i + 1 ):\n",
    "        print(\" \", end = \" \")\n",
    "    for j in range(0, 2 * i + 1):\n",
    "        print(chr(65 + j), end = \" \")\n",
    "        #print( \"*\", end = ' ')\n",
    "        #num = num + 1\n",
    "    print('\\r')"
   ]
  },
  {
   "cell_type": "code",
   "execution_count": null,
   "metadata": {},
   "outputs": [],
   "source": [
    "num = 97\n",
    "n = 5\n",
    "for i in range(0, n ): # 0, 1, 2, 3, 4\n",
    "    for j in range(0, i + 1): # j = 0, 1\n",
    "        print(\" \", chr(num), end = \" \")\n",
    "        num += 1\n",
    "\n",
    "    print('\\r')\n"
   ]
  },
  {
   "cell_type": "code",
   "execution_count": null,
   "metadata": {},
   "outputs": [],
   "source": []
  },
  {
   "cell_type": "markdown",
   "metadata": {},
   "source": [
    "# Pascal triangle"
   ]
  },
  {
   "cell_type": "code",
   "execution_count": 10,
   "metadata": {},
   "outputs": [],
   "source": [
    "def pascal(n):\n",
    "    for i in range(0, n):\n",
    "        for j in range(0, i + 1):\n",
    "            print(function(i, j),\" \", end=\"\")\n",
    "        print()\n",
    " \n",
    "def function(n, k):\n",
    "    res = 1\n",
    "    if (k > n - k):\n",
    "        k = n - k\n",
    "    for i in range(0, k):\n",
    "        res = res * (n - i)\n",
    "        res = res // (i + 1) # // floor division  rounded to whole integer\n",
    " \n",
    "    return res"
   ]
  },
  {
   "cell_type": "code",
   "execution_count": 11,
   "metadata": {},
   "outputs": [
    {
     "name": "stdout",
     "output_type": "stream",
     "text": [
      "1  \n",
      "1  1  \n",
      "1  2  1  \n",
      "1  3  3  1  \n",
      "1  4  6  4  1  \n",
      "1  5  10  10  5  1  \n",
      "1  6  15  20  15  6  1  \n"
     ]
    }
   ],
   "source": [
    "pascal(7)"
   ]
  },
  {
   "cell_type": "markdown",
   "metadata": {},
   "source": [
    "# Recursive algorithm\n",
    "\n",
    "## 2 power n: When the number of loops double with each iteration.: Happens with recussive algorithms\n",
    "\n",
    "5 => 0, 1, 2, 3, 4\n",
    "\n",
    "1 => 0\n",
    "2 => 0, 1"
   ]
  },
  {
   "cell_type": "code",
   "execution_count": 48,
   "metadata": {},
   "outputs": [],
   "source": [
    "def recursive2(n):\n",
    "    print(\"n = \", n, end = \" *** \")\n",
    "    for i in range(0, n): # 0, 1, 2, 3, 4 ## 1 : 0 ## 2: 0, 1 (## 1: 0) ## 3: 0, 1( 1: 0), 2(2: 0, 1) ## 4: 0, 1(0), 2(0, 1), 3(0, 1, 2)\n",
    "        print(\"i = \" ,i, end = \" * \")\n",
    "        recursive2(i)\n",
    "    print(\"\\r\")"
   ]
  },
  {
   "cell_type": "code",
   "execution_count": 49,
   "metadata": {},
   "outputs": [
    {
     "name": "stdout",
     "output_type": "stream",
     "text": [
      "n =  5 *** i =  0 * n =  0 *** \r\n",
      "i =  1 * n =  1 *** i =  0 * n =  0 *** \r\n",
      "\r\n",
      "i =  2 * n =  2 *** i =  0 * n =  0 *** \r\n",
      "i =  1 * n =  1 *** i =  0 * n =  0 *** \r\n",
      "\r\n",
      "\r\n",
      "i =  3 * n =  3 *** i =  0 * n =  0 *** \r\n",
      "i =  1 * n =  1 *** i =  0 * n =  0 *** \r\n",
      "\r\n",
      "i =  2 * n =  2 *** i =  0 * n =  0 *** \r\n",
      "i =  1 * n =  1 *** i =  0 * n =  0 *** \r\n",
      "\r\n",
      "\r\n",
      "\r\n",
      "i =  4 * n =  4 *** i =  0 * n =  0 *** \r\n",
      "i =  1 * n =  1 *** i =  0 * n =  0 *** \r\n",
      "\r\n",
      "i =  2 * n =  2 *** i =  0 * n =  0 *** \r\n",
      "i =  1 * n =  1 *** i =  0 * n =  0 *** \r\n",
      "\r\n",
      "\r\n",
      "i =  3 * n =  3 *** i =  0 * n =  0 *** \r\n",
      "i =  1 * n =  1 *** i =  0 * n =  0 *** \r\n",
      "\r\n",
      "i =  2 * n =  2 *** i =  0 * n =  0 *** \r\n",
      "i =  1 * n =  1 *** i =  0 * n =  0 *** \r\n",
      "\r\n",
      "\r\n",
      "\r\n",
      "\r\n",
      "\r\n"
     ]
    }
   ],
   "source": [
    "\n",
    "recursive2(5)"
   ]
  },
  {
   "cell_type": "code",
   "execution_count": 1,
   "metadata": {},
   "outputs": [],
   "source": [
    "count = 1\n",
    "def recursive(n):\n",
    "    global count\n",
    "    print(\" * \", count,  end = '')\n",
    "    if(n>= 0):\n",
    "        count +=1\n",
    "        for i in range(0, n):\n",
    "            recursive(i)\n",
    "\n",
    "        \n",
    "        \n"
   ]
  },
  {
   "cell_type": "code",
   "execution_count": 2,
   "metadata": {},
   "outputs": [
    {
     "name": "stdout",
     "output_type": "stream",
     "text": [
      " *  1 *  2 *  3 *  4 *  5 *  6 *  7 *  8 *  9 *  10 *  11 *  12 *  13 *  14 *  15 *  16 *  17 *  18 *  19 *  20 *  21 *  22 *  23 *  24 *  25 *  26 *  27 *  28 *  29 *  30 *  31 *  32 *  33 *  34 *  35 *  36 *  37 *  38 *  39 *  40 *  41 *  42 *  43 *  44 *  45 *  46 *  47 *  48 *  49 *  50 *  51 *  52 *  53 *  54 *  55 *  56 *  57 *  58 *  59 *  60 *  61 *  62 *  63 *  64 *  65 *  66 *  67 *  68 *  69 *  70 *  71 *  72 *  73 *  74 *  75 *  76 *  77 *  78 *  79 *  80 *  81 *  82 *  83 *  84 *  85 *  86 *  87 *  88 *  89 *  90 *  91 *  92 *  93 *  94 *  95 *  96 *  97 *  98 *  99 *  100 *  101 *  102 *  103 *  104 *  105 *  106 *  107 *  108 *  109 *  110 *  111 *  112 *  113 *  114 *  115 *  116 *  117 *  118 *  119 *  120 *  121 *  122 *  123 *  124 *  125 *  126 *  127 *  128\n",
      "\n",
      "Loop iterated:  128  times\n"
     ]
    }
   ],
   "source": [
    "recursive(7)\n",
    "print('\\n')\n",
    "print(\"Loop iterated: \", pow(2, 7), \" times\")"
   ]
  },
  {
   "cell_type": "code",
   "execution_count": 2,
   "metadata": {},
   "outputs": [
    {
     "name": "stdout",
     "output_type": "stream",
     "text": [
      "1\n",
      "2\n"
     ]
    }
   ],
   "source": [
    "a = [1]\n",
    "b = a\n",
    "print(b[0])\n",
    "a[0]  = 2\n",
    "print(b[0])"
   ]
  },
  {
   "cell_type": "code",
   "execution_count": 32,
   "metadata": {},
   "outputs": [
    {
     "name": "stdout",
     "output_type": "stream",
     "text": [
      "55555+5555+555+55+5\n"
     ]
    }
   ],
   "source": [
    "n=5\n",
    "y = ''\n",
    "count=1\n",
    "while count <= n:\n",
    "    x=(str(n)*count)\n",
    "\n",
    "    if count == 1:\n",
    "        y = x\n",
    "    else:\n",
    "        y= x + '+' +  y  #(str(n))*count)\n",
    "    count=count+1\n",
    "print(y)"
   ]
  },
  {
   "cell_type": "code",
   "execution_count": 2,
   "metadata": {},
   "outputs": [
    {
     "name": "stdout",
     "output_type": "stream",
     "text": [
      "5\n",
      "55\n",
      "555\n",
      "5555\n",
      "55555\n",
      "['5', '55', '555', '5555', '55555']\n",
      "5+55+555+5555+55555\n"
     ]
    }
   ],
   "source": [
    "#n = '5'\n",
    "#int(n)\n",
    "n = 5\n",
    "out = []\n",
    "for count in range(1, n+1 ):\n",
    "    tmp = (str(n) * count)\n",
    "    print(tmp)\n",
    "    out.append(tmp)\n",
    "\n",
    "print(out)\n",
    "print(\"+\".join(out))"
   ]
  },
  {
   "cell_type": "code",
   "execution_count": 7,
   "metadata": {},
   "outputs": [
    {
     "name": "stdout",
     "output_type": "stream",
     "text": [
      "5+55+555+5555+55555\n"
     ]
    }
   ],
   "source": [
    "n = 5\n",
    "out = []\n",
    "for count in range(1, n + 1):\n",
    "    out.append(str(n)*count)\n",
    "print(\"+\".join(out))"
   ]
  },
  {
   "cell_type": "code",
   "execution_count": null,
   "metadata": {},
   "outputs": [],
   "source": []
  }
 ],
 "metadata": {
  "kernelspec": {
   "display_name": "Python 3",
   "language": "python",
   "name": "python3"
  },
  "language_info": {
   "codemirror_mode": {
    "name": "ipython",
    "version": 3
   },
   "file_extension": ".py",
   "mimetype": "text/x-python",
   "name": "python",
   "nbconvert_exporter": "python",
   "pygments_lexer": "ipython3",
   "version": "3.7.0"
  }
 },
 "nbformat": 4,
 "nbformat_minor": 2
}
