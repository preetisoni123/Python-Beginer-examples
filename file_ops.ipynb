{
 "cells": [
  {
   "cell_type": "code",
   "execution_count": 1,
   "metadata": {},
   "outputs": [
    {
     "name": "stdout",
     "output_type": "stream",
     "text": [
      "['2', '4', '8', '7']\n",
      "['2010', '2009', '1989', '2009']\n"
     ]
    }
   ],
   "source": [
    "f = open('dict_input.txt', 'r')\n",
    "d = dict()\n",
    "lst = []\n",
    "f1 = f.readlines()\n",
    "count = 0\n",
    "for x in f1:\n",
    "    lst.append(x.strip(\"\\n \"))\n",
    "year = []\n",
    "value = []\n",
    "count = 0\n",
    "for ll in lst:\n",
    "    if count%2:\n",
    "        year.append(lst[count])\n",
    "    else:\n",
    "        value.append(lst[count])\n",
    "    count +=1\n",
    "print(year)\n",
    "print(value)"
   ]
  },
  {
   "cell_type": "code",
   "execution_count": null,
   "metadata": {},
   "outputs": [],
   "source": []
  }
 ],
 "metadata": {
  "kernelspec": {
   "display_name": "Python 3",
   "language": "python",
   "name": "python3"
  },
  "language_info": {
   "codemirror_mode": {
    "name": "ipython",
    "version": 3
   },
   "file_extension": ".py",
   "mimetype": "text/x-python",
   "name": "python",
   "nbconvert_exporter": "python",
   "pygments_lexer": "ipython3",
   "version": "3.7.0"
  }
 },
 "nbformat": 4,
 "nbformat_minor": 2
}
